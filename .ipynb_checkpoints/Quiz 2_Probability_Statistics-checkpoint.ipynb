{
 "cells": [
  {
   "metadata": {},
   "cell_type": "markdown",
   "source": "",
   "id": "50f141b3e414fff5"
  },
  {
   "cell_type": "markdown",
   "id": "edf1aed4",
   "metadata": {
    "id": "edf1aed4"
   },
   "source": [
    "## Quiz 2 - Probability, Statistics (ლექცია 4, ლექცია 5) - 7 ქულა\n",
    "\n",
    "იხილეთ LoanStatus.csv მონაცემთა ფაილი, რომელშიც მოცემულია კლიენტთა ინფორმაცია შემდეგი სვეტებით:\n",
    "\n",
    "Loan ID - კლიენტის ID\n",
    "\n",
    "Gender - სქესი\n",
    "\n",
    "Married - დაქორზინებული არის თუ არა\n",
    "\n",
    "Dependents - ოჯახის წევრების რაოდენობა, რომლის ფინანსურ მხარდაჭერასაც უზრუნველყოფს კლიენტი\n",
    "\n",
    "Education - არის თუ არა უმაღლესი განათლების მქონე\n",
    "\n",
    "Self_Employed - არის თუ არა თვითდასაქმებული\n",
    "\n",
    "ApplicantIncome - კლიენტის შემოსავალი (per month)\n",
    "\n",
    "LoanAmount  - სესხის რაოდენობა (ათასებში)\n",
    "\n",
    "Loan_Amount_Term - სესხის ვადა\n",
    "\n",
    "Credit_History - როგორი საკრედიტო ისტორია აქვს კლიენტს (1-კარგი, 0-ცუდი)\n",
    "\n",
    "Property_Area - საცხოვრებელი და სამუშაო ადგილი\n",
    "\n",
    "Loan_Status - სესხის გაცემის სტატუსი\n"
   ]
  },
  {
   "metadata": {},
   "cell_type": "markdown",
   "source": [
    "## დავალება 1: აღწერილობითი სტატისტიკა  (1 ქულა)\n",
    "ა) გახსენით ფაილი და დაბეჭდეთ აღწერილობითი სტატისტიკის მონაცემები თქვენთვის საინტერესო ველებისთვის, როგორიცაა საშუალო, მედიანა, მოდა, სტდ. გადახრა, ა.შ. (მოახდინეთ სიტყვიერი ინტერპრეტაცია);\n",
    "\n",
    "ბ) დაითვალეთ თითოეულ სვეტში ცარიელი მნიშვნელობების რაოდენობა შესაბამისი ფუნქციით"
   ],
   "id": "a5ca76e2f25b8dd"
  },
  {
   "cell_type": "code",
   "id": "b786db79",
   "metadata": {
    "id": "b786db79",
    "jupyter": {
     "is_executing": true
    }
   },
   "source": [
    "import pandas as pd\n",
    "import warnings\n",
    "\n",
    "from scipy.stats import norm\n",
    "warnings.filterwarnings(\"ignore\")"
   ],
   "outputs": [],
   "execution_count": null
  },
  {
   "metadata": {},
   "cell_type": "markdown",
   "source": "",
   "id": "e447e0060b5c3313"
  },
  {
   "cell_type": "code",
   "execution_count": null,
   "id": "1abee773",
   "metadata": {
    "id": "1abee773"
   },
   "outputs": [],
   "source": [
    "data = pd.read_csv(\"LoanStatus.csv\")\n",
    "\n",
    "print(\"Descriptive Statistics for ApplicantIncome:\")\n",
    "print(data['ApplicantIncome'].describe())\n",
    "\n",
    "print(\"\\nDescriptive Statistics for LoanAmount:\")\n",
    "print(data['LoanAmount'].describe())\n",
    "\n",
    "print(\"\\nDescriptive Statistics for Loan_Amount_Term:\")\n",
    "print(data['Loan_Amount_Term'].describe())\n",
    "\n",
    "print(\"\\nDescriptive Statistics for Credit_History:\")\n",
    "print(data['Credit_History'].describe())\n"
   ]
  },
  {
   "cell_type": "code",
   "execution_count": null,
   "id": "eacde097",
   "metadata": {
    "id": "eacde097"
   },
   "outputs": [],
   "source": [
    "blank_counts = data.isnull().sum()\n",
    "print(\"\\nNumber of blank values in each column:\")\n",
    "print(blank_counts)"
   ]
  },
  {
   "cell_type": "markdown",
   "id": "765decd7",
   "metadata": {
    "id": "765decd7"
   },
   "source": [
    "## დავალება 2:  ალბათობა (1 ქულა)\n",
    "ა) დაითვალეთ, რა არის სესხის აღების ალბათობა Loan_Status-ის მიხედვით.\n",
    "\n",
    "ბ) რა არის სესხის აღების ალბათობა, მაშინ როცა კლიენტს კარგი საკრედიტო ისტორია აქვს.\n",
    "\n",
    "კოდს დაურთეთ თქვენი კომენტარები მოკლედ"
   ]
  },
  {
   "cell_type": "code",
   "execution_count": null,
   "id": "98aafed8",
   "metadata": {
    "id": "98aafed8"
   },
   "outputs": [],
   "source": [
    "loan_approval_probability = data['Loan_Status'].value_counts(normalize=True)['Y']\n",
    "print(\"probability of getting a loan:\", loan_approval_probability)"
   ]
  },
  {
   "cell_type": "code",
   "execution_count": null,
   "id": "b2a3f23c",
   "metadata": {
    "id": "b2a3f23c"
   },
   "outputs": [],
   "source": [
    "# filter the data for clients with good credit history\n",
    "good_credit_data = data[data['Credit_History'] == 1]"
   ]
  },
  {
   "cell_type": "code",
   "execution_count": null,
   "id": "8307cf58",
   "metadata": {
    "id": "8307cf58"
   },
   "outputs": [],
   "source": [
    "# calculate the probability of getting a loan among clients with good credit history\n",
    "good_credit_loan_probability = good_credit_data['Loan_Status'].value_counts(normalize=True)['Y']\n",
    "print(\"probability of getting a loan with good credit history:\", good_credit_loan_probability)"
   ]
  },
  {
   "cell_type": "markdown",
   "id": "80eb6167",
   "metadata": {
    "id": "80eb6167"
   },
   "source": [
    "## დავალება 3: გრაფიკული წარმოდგენა (1 ქულა)\n",
    "ა) seaborn.distplot ან seaborn.histplot() ფუნქციის გამოყენებით, ააგეთ რომელიმე სვეტისთვის შესაბამისი გრაფიკი. ლინკი: https://seaborn.pydata.org/generated/seaborn.distplot.html\n",
    "\n",
    "ბ) matplotlib.pyplot.hist ფუნქციის გამოყენებით, ააგეთ რომელიმე სვეტისთვის შესაბამისი ჰისტოგრამი, რომელშიც bin-ების (ჰოსტოგრამაში ბლოკების) რაოდენობას თქვენ განსაზღვრავთ (მაგ. ჰისტოგრამაში 10 სვეტად წარმოადგინოთ მონაცემები.) იხ. დოკუმენტაცია შემდეგ ლინკზე: https://matplotlib.org/stable/api/_as_gen/matplotlib.pyplot.hist.html\n",
    "\n",
    "Future warnings-ების გამოსართავად ჩაწერეთ შემდეგი ბრძანებები:\n",
    "import warnings\n",
    "warnings.filterwarnings(\"ignore\")\n",
    "\n",
    "კოდს დაურთეთ თქვენი კომენტარები მოკლედ"
   ]
  },
  {
   "cell_type": "code",
   "execution_count": null,
   "id": "4acb2e7f",
   "metadata": {
    "id": "4acb2e7f"
   },
   "outputs": [],
   "source": [
    "import numpy as np\n",
    "import matplotlib.pyplot as plt\n",
    "import seaborn as sns"
   ]
  },
  {
   "cell_type": "code",
   "id": "6e98aca4",
   "metadata": {
    "id": "6e98aca4",
    "jupyter": {
     "is_executing": true
    }
   },
   "source": [
    "# Set the style for seaborn plots\n",
    "sns.set(style=\"whitegrid\")\n",
    "\n",
    "# a) Using seaborn.distplot or seaborn.histplot() to plot a histogram\n",
    "# Let's plot a histogram for 'ApplicantIncome' column using seaborn.distplot\n",
    "plt.figure(figsize=(10, 6))\n",
    "sns.histplot(data['ApplicantIncome'], bins=30, kde=False, color='blue')\n",
    "plt.title('Histogram of Applicant Income')\n",
    "plt.xlabel('Applicant Income')\n",
    "plt.ylabel('Frequency')\n",
    "plt.show()\n",
    "\n",
    "# b) Using matplotlib.pyplot.hist to build a histogram with a specified number of bins\n",
    "# Let's build a histogram for 'LoanAmount' column using matplotlib.pyplot.hist\n",
    "plt.figure(figsize=(10, 6))\n",
    "plt.hist(data['LoanAmount'], bins=10, color='green', alpha=0.7)\n",
    "plt.title('Histogram of Loan Amount')\n",
    "plt.xlabel('Loan Amount')\n",
    "plt.ylabel('Frequency')\n",
    "plt.show()\n"
   ],
   "outputs": [],
   "execution_count": null
  },
  {
   "cell_type": "code",
   "execution_count": null,
   "id": "47399106",
   "metadata": {
    "id": "47399106"
   },
   "outputs": [],
   "source": ""
  },
  {
   "cell_type": "markdown",
   "id": "7331343b",
   "metadata": {
    "id": "7331343b"
   },
   "source": [
    "## დავალება 4:  კუმულაციური ალბათობა (Cumulative distribution function) - (1 ქულა)\n",
    "დაითვალეთ შემდეგი კუმულაციური ალბათობა scipy.stats.norm.cdf() ფუნქციის გამოყენებით.\n",
    "დაითვალეთ კლიენტების რამდენ პროცენტს აქვს შემოსავალი 2000 ევროზე ნაკლები ყოველთვიურად.\n",
    "norm.cdf(x, mean_val, std_dev_val) ფუნქციის პირველი პარამეტრია სასაზღვრო მნიშვნელობა, მეორე- საშუალო, მესამე -სტდ. გადახრა.\n",
    "\n",
    "#### მოახდინეთ შედეგების სიტყვიერი ინტერპრეტაცია"
   ]
  },
  {
   "cell_type": "code",
   "execution_count": null,
   "id": "be4adcf9",
   "metadata": {
    "id": "be4adcf9"
   },
   "outputs": [],
   "source": [
    "from scipy.stats import norm"
   ]
  },
  {
   "cell_type": "code",
   "execution_count": null,
   "id": "ea939c97",
   "metadata": {
    "id": "ea939c97"
   },
   "outputs": [],
   "source": []
  },
  {
   "cell_type": "code",
   "execution_count": null,
   "id": "ac6083ba",
   "metadata": {
    "id": "ac6083ba"
   },
   "outputs": [],
   "source": []
  },
  {
   "cell_type": "markdown",
   "id": "ab5b9a5b",
   "metadata": {
    "id": "ab5b9a5b"
   },
   "source": [
    "## დავალება 5: სტატისტიკა (1 ქულა)\n",
    "\n",
    "ააგეთ 2 boxplot დიაგრამა seaborn.boxplot() ფუნქციის გამოყენებით რომელიმე ველის მიმართ."
   ]
  },
  {
   "cell_type": "code",
   "execution_count": null,
   "id": "60901cb8",
   "metadata": {
    "id": "60901cb8"
   },
   "outputs": [],
   "source": []
  },
  {
   "cell_type": "code",
   "execution_count": null,
   "id": "d0d8a3bc",
   "metadata": {
    "id": "d0d8a3bc"
   },
   "outputs": [],
   "source": []
  },
  {
   "cell_type": "markdown",
   "id": "4ae13cb5",
   "metadata": {
    "id": "4ae13cb5"
   },
   "source": [
    "## დავალება 6: t-test (2 ქულა)\n",
    "ა) გააკეთეთ t-test ანალიზი (One sample t-test)  რომელიმე სვეტის მიმართ და გამოიყენეთ  ttest_1samp ფუნქცია.\n",
    "\n",
    "ბ) გააკეთეთ t-test ანალიზი (Two sample t-test) რომელიმე სვეტის მიმართ და გამოიყენეთ  ttest_ind ფუნქცია.\n",
    "\n",
    "განსაზღვრეთ ნულოვანი და ალტერნატიული ჰიპოთეზა, გამოიყენეთ აღნიშნული ფუნქციები და მოახდინეთ შედეგების სიტყვიერი ინტერპრეტაცია."
   ]
  },
  {
   "cell_type": "code",
   "execution_count": null,
   "id": "f05f6747",
   "metadata": {
    "id": "f05f6747"
   },
   "outputs": [],
   "source": [
    "from scipy.stats import ttest_1samp,ttest_ind"
   ]
  },
  {
   "cell_type": "code",
   "execution_count": null,
   "id": "116b95c4",
   "metadata": {
    "id": "116b95c4"
   },
   "outputs": [],
   "source": []
  }
 ],
 "metadata": {
  "kernelspec": {
   "display_name": "Python 3",
   "language": "python",
   "name": "python3"
  },
  "language_info": {
   "codemirror_mode": {
    "name": "ipython",
    "version": 3
   },
   "file_extension": ".py",
   "mimetype": "text/x-python",
   "name": "python",
   "nbconvert_exporter": "python",
   "pygments_lexer": "ipython3",
   "version": "3.8.8"
  },
  "colab": {
   "provenance": []
  }
 },
 "nbformat": 4,
 "nbformat_minor": 5
}
