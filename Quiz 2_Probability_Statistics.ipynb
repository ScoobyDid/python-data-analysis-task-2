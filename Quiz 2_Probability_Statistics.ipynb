{
 "cells": [
  {
   "metadata": {},
   "cell_type": "markdown",
   "source": "",
   "id": "50f141b3e414fff5"
  },
  {
   "cell_type": "markdown",
   "id": "edf1aed4",
   "metadata": {
    "id": "edf1aed4"
   },
   "source": [
    "## Quiz 2 - Probability, Statistics (ლექცია 4, ლექცია 5) - 7 ქულა\n",
    "\n",
    "იხილეთ LoanStatus.csv მონაცემთა ფაილი, რომელშიც მოცემულია კლიენტთა ინფორმაცია შემდეგი სვეტებით:\n",
    "\n",
    "Loan ID - კლიენტის ID\n",
    "\n",
    "Gender - სქესი\n",
    "\n",
    "Married - დაქორზინებული არის თუ არა\n",
    "\n",
    "Dependents - ოჯახის წევრების რაოდენობა, რომლის ფინანსურ მხარდაჭერასაც უზრუნველყოფს კლიენტი\n",
    "\n",
    "Education - არის თუ არა უმაღლესი განათლების მქონე\n",
    "\n",
    "Self_Employed - არის თუ არა თვითდასაქმებული\n",
    "\n",
    "ApplicantIncome - კლიენტის შემოსავალი (per month)\n",
    "\n",
    "LoanAmount  - სესხის რაოდენობა (ათასებში)\n",
    "\n",
    "Loan_Amount_Term - სესხის ვადა\n",
    "\n",
    "Credit_History - როგორი საკრედიტო ისტორია აქვს კლიენტს (1-კარგი, 0-ცუდი)\n",
    "\n",
    "Property_Area - საცხოვრებელი და სამუშაო ადგილი\n",
    "\n",
    "Loan_Status - სესხის გაცემის სტატუსი\n"
   ]
  },
  {
   "metadata": {},
   "cell_type": "markdown",
   "source": [
    "## დავალება 1: აღწერილობითი სტატისტიკა  (1 ქულა)\n",
    "ა) გახსენით ფაილი და დაბეჭდეთ აღწერილობითი სტატისტიკის მონაცემები თქვენთვის საინტერესო ველებისთვის, როგორიცაა საშუალო, მედიანა, მოდა, სტდ. გადახრა, ა.შ. (მოახდინეთ სიტყვიერი ინტერპრეტაცია);\n",
    "\n",
    "ბ) დაითვალეთ თითოეულ სვეტში ცარიელი მნიშვნელობების რაოდენობა შესაბამისი ფუნქციით"
   ],
   "id": "a5ca76e2f25b8dd"
  },
  {
   "cell_type": "code",
   "id": "b786db79",
   "metadata": {
    "id": "b786db79",
    "ExecuteTime": {
     "end_time": "2024-04-20T17:14:40.933011Z",
     "start_time": "2024-04-20T17:14:40.922441Z"
    }
   },
   "source": [
    "import pandas as pd\n",
    "import warnings\n",
    "\n",
    "from scipy.stats import norm\n",
    "warnings.filterwarnings(\"ignore\")"
   ],
   "outputs": [],
   "execution_count": 2
  },
  {
   "metadata": {},
   "cell_type": "markdown",
   "source": "",
   "id": "e447e0060b5c3313"
  },
  {
   "cell_type": "code",
   "id": "1abee773",
   "metadata": {
    "id": "1abee773",
    "ExecuteTime": {
     "end_time": "2024-04-20T17:14:42.882749Z",
     "start_time": "2024-04-20T17:14:42.811494Z"
    }
   },
   "source": [
    "data = pd.read_csv(\"LoanStatus.csv\")\n",
    "\n",
    "print(\"Descriptive Statistics for ApplicantIncome:\")\n",
    "print(data['ApplicantIncome'].describe())\n",
    "\n",
    "print(\"\\nDescriptive Statistics for LoanAmount:\")\n",
    "print(data['LoanAmount'].describe())\n",
    "\n",
    "print(\"\\nDescriptive Statistics for Loan_Amount_Term:\")\n",
    "print(data['Loan_Amount_Term'].describe())\n",
    "\n",
    "print(\"\\nDescriptive Statistics for Credit_History:\")\n",
    "print(data['Credit_History'].describe())\n"
   ],
   "outputs": [
    {
     "name": "stdout",
     "output_type": "stream",
     "text": [
      "Descriptive Statistics for ApplicantIncome:\n",
      "count      614.000000\n",
      "mean      5403.459283\n",
      "std       6109.041673\n",
      "min        150.000000\n",
      "25%       2877.500000\n",
      "50%       3812.500000\n",
      "75%       5795.000000\n",
      "max      81000.000000\n",
      "Name: ApplicantIncome, dtype: float64\n",
      "\n",
      "Descriptive Statistics for LoanAmount:\n",
      "count    592.000000\n",
      "mean     146.412162\n",
      "std       85.587325\n",
      "min        9.000000\n",
      "25%      100.000000\n",
      "50%      128.000000\n",
      "75%      168.000000\n",
      "max      700.000000\n",
      "Name: LoanAmount, dtype: float64\n",
      "\n",
      "Descriptive Statistics for Loan_Amount_Term:\n",
      "count    600.00000\n",
      "mean     342.00000\n",
      "std       65.12041\n",
      "min       12.00000\n",
      "25%      360.00000\n",
      "50%      360.00000\n",
      "75%      360.00000\n",
      "max      480.00000\n",
      "Name: Loan_Amount_Term, dtype: float64\n",
      "\n",
      "Descriptive Statistics for Credit_History:\n",
      "count    564.000000\n",
      "mean       0.842199\n",
      "std        0.364878\n",
      "min        0.000000\n",
      "25%        1.000000\n",
      "50%        1.000000\n",
      "75%        1.000000\n",
      "max        1.000000\n",
      "Name: Credit_History, dtype: float64\n"
     ]
    }
   ],
   "execution_count": 3
  },
  {
   "cell_type": "code",
   "id": "eacde097",
   "metadata": {
    "id": "eacde097",
    "ExecuteTime": {
     "end_time": "2024-04-20T17:14:46.045794Z",
     "start_time": "2024-04-20T17:14:46.022756Z"
    }
   },
   "source": [
    "blank_counts = data.isnull().sum()\n",
    "print(\"\\nNumber of blank values in each column:\")\n",
    "print(blank_counts)"
   ],
   "outputs": [
    {
     "name": "stdout",
     "output_type": "stream",
     "text": [
      "\n",
      "Number of blank values in each column:\n",
      "Loan_ID              0\n",
      "Gender              13\n",
      "Married              3\n",
      "Dependents          15\n",
      "Education            0\n",
      "Self_Employed       32\n",
      "ApplicantIncome      0\n",
      "LoanAmount          22\n",
      "Loan_Amount_Term    14\n",
      "Credit_History      50\n",
      "Property_Area        0\n",
      "Loan_Status          0\n",
      "dtype: int64\n"
     ]
    }
   ],
   "execution_count": 4
  },
  {
   "cell_type": "markdown",
   "id": "765decd7",
   "metadata": {
    "id": "765decd7"
   },
   "source": [
    "## დავალება 2:  ალბათობა (1 ქულა)\n",
    "ა) დაითვალეთ, რა არის სესხის აღების ალბათობა Loan_Status-ის მიხედვით.\n",
    "\n",
    "ბ) რა არის სესხის აღების ალბათობა, მაშინ როცა კლიენტს კარგი საკრედიტო ისტორია აქვს.\n",
    "\n",
    "კოდს დაურთეთ თქვენი კომენტარები მოკლედ"
   ]
  },
  {
   "cell_type": "code",
   "id": "98aafed8",
   "metadata": {
    "id": "98aafed8",
    "ExecuteTime": {
     "end_time": "2024-04-20T17:14:49.625657Z",
     "start_time": "2024-04-20T17:14:49.604046Z"
    }
   },
   "source": [
    "loan_approval_probability = data['Loan_Status'].value_counts(normalize=True)['Y']\n",
    "print(\"probability of getting a loan:\", loan_approval_probability)"
   ],
   "outputs": [
    {
     "name": "stdout",
     "output_type": "stream",
     "text": [
      "probability of getting a loan: 0.6872964169381107\n"
     ]
    }
   ],
   "execution_count": 5
  },
  {
   "cell_type": "code",
   "id": "b2a3f23c",
   "metadata": {
    "id": "b2a3f23c",
    "ExecuteTime": {
     "end_time": "2024-04-20T17:14:50.883481Z",
     "start_time": "2024-04-20T17:14:50.870784Z"
    }
   },
   "source": [
    "# filter the data for clients with good credit history\n",
    "good_credit_data = data[data['Credit_History'] == 1]"
   ],
   "outputs": [],
   "execution_count": 6
  },
  {
   "cell_type": "code",
   "id": "8307cf58",
   "metadata": {
    "id": "8307cf58",
    "ExecuteTime": {
     "end_time": "2024-04-20T17:14:55.206823Z",
     "start_time": "2024-04-20T17:14:55.192740Z"
    }
   },
   "source": [
    "# calculate the probability of getting a loan among clients with good credit history\n",
    "good_credit_loan_probability = good_credit_data['Loan_Status'].value_counts(normalize=True)['Y']\n",
    "print(\"probability of getting a loan with good credit history:\", good_credit_loan_probability)"
   ],
   "outputs": [
    {
     "name": "stdout",
     "output_type": "stream",
     "text": [
      "probability of getting a loan with good credit history: 0.7957894736842105\n"
     ]
    }
   ],
   "execution_count": 7
  },
  {
   "cell_type": "markdown",
   "id": "80eb6167",
   "metadata": {
    "id": "80eb6167"
   },
   "source": [
    "## დავალება 3: გრაფიკული წარმოდგენა (1 ქულა)\n",
    "ა) seaborn.distplot ან seaborn.histplot() ფუნქციის გამოყენებით, ააგეთ რომელიმე სვეტისთვის შესაბამისი გრაფიკი. ლინკი: https://seaborn.pydata.org/generated/seaborn.distplot.html\n",
    "\n",
    "ბ) matplotlib.pyplot.hist ფუნქციის გამოყენებით, ააგეთ რომელიმე სვეტისთვის შესაბამისი ჰისტოგრამი, რომელშიც bin-ების (ჰოსტოგრამაში ბლოკების) რაოდენობას თქვენ განსაზღვრავთ (მაგ. ჰისტოგრამაში 10 სვეტად წარმოადგინოთ მონაცემები.) იხ. დოკუმენტაცია შემდეგ ლინკზე: https://matplotlib.org/stable/api/_as_gen/matplotlib.pyplot.hist.html\n",
    "\n",
    "Future warnings-ების გამოსართავად ჩაწერეთ შემდეგი ბრძანებები:\n",
    "import warnings\n",
    "warnings.filterwarnings(\"ignore\")\n",
    "\n",
    "კოდს დაურთეთ თქვენი კომენტარები მოკლედ"
   ]
  },
  {
   "cell_type": "code",
   "id": "4acb2e7f",
   "metadata": {
    "id": "4acb2e7f",
    "ExecuteTime": {
     "end_time": "2024-04-20T17:14:57.969770Z",
     "start_time": "2024-04-20T17:14:57.953718Z"
    }
   },
   "source": [
    "import numpy as np\n",
    "import matplotlib.pyplot as plt\n",
    "import seaborn as sns"
   ],
   "outputs": [],
   "execution_count": 8
  },
  {
   "cell_type": "code",
   "id": "6e98aca4",
   "metadata": {
    "id": "6e98aca4",
    "ExecuteTime": {
     "end_time": "2024-04-20T17:15:01.081049Z",
     "start_time": "2024-04-20T17:14:59.842730Z"
    }
   },
   "source": [
    "# Set the style for seaborn plots\n",
    "sns.set(style=\"whitegrid\")\n",
    "\n",
    "# a) Using seaborn.distplot or seaborn.histplot() to plot a histogram\n",
    "# Let's plot a histogram for 'ApplicantIncome' column using seaborn.distplot\n",
    "plt.figure(figsize=(10, 6))\n",
    "sns.histplot(data['ApplicantIncome'], bins=30, kde=False, color='blue')\n",
    "plt.title('Histogram of Applicant Income')\n",
    "plt.xlabel('Applicant Income')\n",
    "plt.ylabel('Frequency')\n",
    "plt.show()\n",
    "\n",
    "# b) Using matplotlib.pyplot.hist to build a histogram with a specified number of bins\n",
    "# Let's build a histogram for 'LoanAmount' column using matplotlib.pyplot.hist\n",
    "plt.figure(figsize=(10, 6))\n",
    "plt.hist(data['LoanAmount'], bins=10, color='green', alpha=0.7)\n",
    "plt.title('Histogram of Loan Amount')\n",
    "plt.xlabel('Loan Amount')\n",
    "plt.ylabel('Frequency')\n",
    "plt.show()\n"
   ],
   "outputs": [
    {
     "data": {
      "text/plain": [
       "<Figure size 1000x600 with 1 Axes>"
      ],
      "image/png": "[encoded data removed]"
     },
     "metadata": {},
     "output_type": "display_data"
    },
    {
     "data": {
      "text/plain": [
       "<Figure size 1000x600 with 1 Axes>"
      ],
      "image/png": "[encoded data removed]"
     },
     "metadata": {},
     "output_type": "display_data"
    }
   ],
   "execution_count": 9
  },
  {
   "cell_type": "code",
   "execution_count": null,
   "id": "47399106",
   "metadata": {
    "id": "47399106"
   },
   "outputs": [],
   "source": ""
  },
  {
   "cell_type": "markdown",
   "id": "7331343b",
   "metadata": {
    "id": "7331343b"
   },
   "source": [
    "## დავალება 4:  კუმულაციური ალბათობა (Cumulative distribution function) - (1 ქულა)\n",
    "დაითვალეთ შემდეგი კუმულაციური ალბათობა scipy.stats.norm.cdf() ფუნქციის გამოყენებით.\n",
    "დაითვალეთ კლიენტების რამდენ პროცენტს აქვს შემოსავალი 2000 ევროზე ნაკლები ყოველთვიურად.\n",
    "norm.cdf(x, mean_val, std_dev_val) ფუნქციის პირველი პარამეტრია სასაზღვრო მნიშვნელობა, მეორე- საშუალო, მესამე -სტდ. გადახრა.\n",
    "\n",
    "#### მოახდინეთ შედეგების სიტყვიერი ინტერპრეტაცია"
   ]
  },
  {
   "cell_type": "code",
   "execution_count": null,
   "id": "be4adcf9",
   "metadata": {
    "id": "be4adcf9"
   },
   "outputs": [],
   "source": [
    "from scipy.stats import norm"
   ]
  },
  {
   "cell_type": "code",
   "id": "ea939c97",
   "metadata": {
    "id": "ea939c97",
    "ExecuteTime": {
     "end_time": "2024-04-20T17:15:25.750714Z",
     "start_time": "2024-04-20T17:15:25.722708Z"
    }
   },
   "source": [
    "# mean and standard deviation of ApplicantIncome column\n",
    "mean_income = data['ApplicantIncome'].mean()\n",
    "std_dev_income = data['ApplicantIncome'].std()\n",
    "\n",
    "# cumulative probability for income less than 2,000 euros\n",
    "cumulative_prob = norm.cdf(2000, mean_income, std_dev_income)\n",
    "\n",
    "# percentage of customers with income less than 2,000 euros\n",
    "percentage_less_than_2000 = cumulative_prob * 100\n",
    "\n",
    "print(\"percentage of customers with income less than 2000 euros per month:\", percentage_less_than_2000)"
   ],
   "outputs": [
    {
     "name": "stdout",
     "output_type": "stream",
     "text": [
      "percentage of customers with income less than 2000 euros per month: 28.872328177095586\n"
     ]
    }
   ],
   "execution_count": 10
  },
  {
   "cell_type": "code",
   "execution_count": null,
   "id": "ac6083ba",
   "metadata": {
    "id": "ac6083ba"
   },
   "outputs": [],
   "source": []
  },
  {
   "cell_type": "markdown",
   "id": "ab5b9a5b",
   "metadata": {
    "id": "ab5b9a5b"
   },
   "source": [
    "## დავალება 5: სტატისტიკა (1 ქულა)\n",
    "\n",
    "ააგეთ 2 boxplot დიაგრამა seaborn.boxplot() ფუნქციის გამოყენებით რომელიმე ველის მიმართ."
   ]
  },
  {
   "cell_type": "code",
   "id": "60901cb8",
   "metadata": {
    "id": "60901cb8",
    "ExecuteTime": {
     "end_time": "2024-04-20T17:16:22.932922Z",
     "start_time": "2024-04-20T17:16:22.091706Z"
    }
   },
   "source": [
    "# seaborn.boxplot() against the 'Loan_Amount_Term' field\n",
    "plt.figure(figsize=(12, 6))\n",
    "\n",
    "# first boxplot\n",
    "sns.boxplot(x='Loan_Amount_Term', data=data)\n",
    "plt.title('Boxplot of Loan_Amount_Term')\n",
    "plt.xlabel('Loan_Amount_Term')\n",
    "plt.show()\n",
    "\n",
    "\n",
    "# second boxplot\n",
    "sns.boxplot(x='Loan_Amount_Term', y='Loan_Status', data=data)\n",
    "plt.title('Boxplot of Loan_Amount_Term by Loan Status')\n",
    "plt.xlabel('Loan_Amount_Term')\n",
    "plt.ylabel('Loan_Status')\n",
    "plt.show()"
   ],
   "outputs": [
    {
     "data": {
      "text/plain": [
       "<Figure size 1200x600 with 1 Axes>"
      ],
      "image/png": "[encoded data removed]"
     },
     "metadata": {},
     "output_type": "display_data"
    },
    {
     "data": {
      "text/plain": [
       "<Figure size 640x480 with 1 Axes>"
      ],
      "image/png": "[encoded data removed]"
     },
     "metadata": {},
     "output_type": "display_data"
    }
   ],
   "execution_count": 11
  },
  {
   "cell_type": "code",
   "execution_count": null,
   "id": "d0d8a3bc",
   "metadata": {
    "id": "d0d8a3bc"
   },
   "outputs": [],
   "source": []
  },
  {
   "cell_type": "markdown",
   "id": "4ae13cb5",
   "metadata": {
    "id": "4ae13cb5"
   },
   "source": [
    "## დავალება 6: t-test (2 ქულა)\n",
    "ა) გააკეთეთ t-test ანალიზი (One sample t-test)  რომელიმე სვეტის მიმართ და გამოიყენეთ  ttest_1samp ფუნქცია.\n",
    "\n",
    "ბ) გააკეთეთ t-test ანალიზი (Two sample t-test) რომელიმე სვეტის მიმართ და გამოიყენეთ  ttest_ind ფუნქცია.\n",
    "\n",
    "განსაზღვრეთ ნულოვანი და ალტერნატიული ჰიპოთეზა, გამოიყენეთ აღნიშნული ფუნქციები და მოახდინეთ შედეგების სიტყვიერი ინტერპრეტაცია."
   ]
  },
  {
   "cell_type": "code",
   "id": "f05f6747",
   "metadata": {
    "id": "f05f6747",
    "ExecuteTime": {
     "end_time": "2024-04-20T17:16:54.288313Z",
     "start_time": "2024-04-20T17:16:54.262388Z"
    }
   },
   "source": [
    "from scipy.stats import ttest_1samp,ttest_ind"
   ],
   "outputs": [],
   "execution_count": 13
  },
  {
   "cell_type": "code",
   "id": "116b95c4",
   "metadata": {
    "id": "116b95c4",
    "ExecuteTime": {
     "end_time": "2024-04-20T17:18:14.824430Z",
     "start_time": "2024-04-20T17:18:14.801719Z"
    }
   },
   "source": [
    "null_hypothesis = 5000\n",
    "\n",
    "# one-sample t-test\n",
    "t_statistic, p_value = ttest_1samp(data['ApplicantIncome'], null_hypothesis)\n",
    "\n",
    "# alternative hypothesis\n",
    "alternative_hypothesis = \"the mean of ApplicantIncome column is not equal to 5000\"\n",
    "\n",
    "# interpret the results\n",
    "alpha = 1\n",
    "if p_value < alpha:\n",
    "    print(\"reject the null hypothesis.\")\n",
    "    print(alternative_hypothesis)\n",
    "else:\n",
    "    print(\"fail to reject the null hypothesis.\")\n",
    "    print(\"the mean of ApplicantIncome column is likely equal to 5000.\")\n",
    "    \n",
    "    # separate ApplicantIncome data into two groups based on Loan_Status\n",
    "approved_loan_income = data[data['Loan_Status'] == 'Y']['ApplicantIncome']\n",
    "not_approved_loan_income = data[data['Loan_Status'] == 'N']['ApplicantIncome']\n",
    "\n",
    "# two-sample t-test\n",
    "t_statistic, p_value = ttest_ind(approved_loan_income, not_approved_loan_income)\n",
    "\n",
    "# null hypothesis\n",
    "null_hypothesis = \"there is no difference in mean ApplicantIncome between approved and not approved loans.\"\n",
    "\n",
    "# alternative hypothesis\n",
    "alternative_hypothesis = \"there is a difference in mean ApplicantIncome between approved and not approved loans.\"\n",
    "\n",
    "# interpret the results\n",
    "alpha = 1\n",
    "if p_value < alpha:\n",
    "    print(\"reject the null hypothesis.\")\n",
    "    print(alternative_hypothesis)\n",
    "else:\n",
    "    print(\"fail to reject the null hypothesis.\")\n",
    "    print(null_hypothesis)"
   ],
   "outputs": [
    {
     "name": "stdout",
     "output_type": "stream",
     "text": [
      "reject the null hypothesis.\n",
      "the mean of ApplicantIncome column is not equal to 5000\n",
      "reject the null hypothesis.\n",
      "there is a difference in mean ApplicantIncome between approved and not approved loans.\n"
     ]
    }
   ],
   "execution_count": 18
  }
 ],
 "metadata": {
  "kernelspec": {
   "display_name": "Python 3",
   "language": "python",
   "name": "python3"
  },
  "language_info": {
   "codemirror_mode": {
    "name": "ipython",
    "version": 3
   },
   "file_extension": ".py",
   "mimetype": "text/x-python",
   "name": "python",
   "nbconvert_exporter": "python",
   "pygments_lexer": "ipython3",
   "version": "3.8.8"
  },
  "colab": {
   "provenance": []
  }
 },
 "nbformat": 4,
 "nbformat_minor": 5
}
